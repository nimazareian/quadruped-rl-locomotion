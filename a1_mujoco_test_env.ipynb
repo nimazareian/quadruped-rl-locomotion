{
 "cells": [
  {
   "cell_type": "markdown",
   "metadata": {},
   "source": [
    "A more complete notebook can be found [here](https://colab.research.google.com/github/google-deepmind/mujoco/blob/main/python/tutorial.ipynb)"
   ]
  },
  {
   "cell_type": "code",
   "execution_count": 1,
   "metadata": {},
   "outputs": [],
   "source": [
    "import mujoco\n",
    "import mujoco_viewer\n",
    "\n",
    "# scene.xml includes the robot model and a simple environment\n",
    "# model = mujoco.MjModel.from_xml_path(\"./unitree_go1/scene.xml\")\n",
    "model = mujoco.MjModel.from_xml_path(\"./unitree_a1/unitree_a1_torque.xml\")\n",
    "\n",
    "# Contains the state of the model (time: .time, pos: .qpos, vel: .qvel) \n",
    "data = mujoco.MjData(model)"
   ]
  },
  {
   "cell_type": "code",
   "execution_count": 2,
   "metadata": {},
   "outputs": [
    {
     "name": "stdout",
     "output_type": "stream",
     "text": [
      "\"Invalid name ''. Valid names: ['FL_foot', 'FR_foot', 'RL_foot', 'RR_foot', 'floor']\"\n"
     ]
    }
   ],
   "source": [
    "# Print out the name of the body accessors\n",
    "try:\n",
    "    model.geom()\n",
    "except KeyError as e:\n",
    "    print(e)"
   ]
  },
  {
   "cell_type": "code",
   "execution_count": 3,
   "metadata": {},
   "outputs": [
    {
     "data": {
      "text/plain": [
       "<_MjModelGeomViews\n",
       "  bodyid: array([7])\n",
       "  conaffinity: array([1])\n",
       "  condim: array([6])\n",
       "  contype: array([1])\n",
       "  dataid: array([-1])\n",
       "  friction: array([0.8 , 0.02, 0.01])\n",
       "  gap: array([0.])\n",
       "  group: array([1])\n",
       "  id: 30\n",
       "  margin: array([0.001])\n",
       "  matid: array([-1])\n",
       "  name: 'FL_foot'\n",
       "  pos: array([ 0. ,  0. , -0.2])\n",
       "  priority: array([1])\n",
       "  quat: array([1., 0., 0., 0.])\n",
       "  rbound: array([0.02])\n",
       "  rgba: array([0.5, 0.6, 0.7, 0.2], dtype=float32)\n",
       "  sameframe: array([0], dtype=uint8)\n",
       "  size: array([0.02, 0.  , 0.  ])\n",
       "  solimp: array([0.015, 1.   , 0.031, 0.5  , 2.   ])\n",
       "  solmix: array([1.])\n",
       "  solref: array([0.02, 1.  ])\n",
       "  type: array([2])\n",
       "  user: array([], dtype=float64)\n",
       ">"
      ]
     },
     "execution_count": 3,
     "metadata": {},
     "output_type": "execute_result"
    }
   ],
   "source": [
    "model.geom(\"FL_foot\")"
   ]
  },
  {
   "cell_type": "code",
   "execution_count": 4,
   "metadata": {},
   "outputs": [
    {
     "name": "stdout",
     "output_type": "stream",
     "text": [
      "Simulated time: 0.0 sec\n",
      "Default timestep: 0.002 sec\n",
      "Degrees of freedom: model.nv=18\n",
      "len(data.qpos)=18 data.qpos=array([0., 0., 0., 0., 0., 0., 0., 0., 0., 0., 0., 0., 0., 0., 0., 0., 0.,\n",
      "       0.])\n",
      "len(data.qvel)=18 data.qvel=array([0., 0., 0., 0., 0., 0., 0., 0., 0., 0., 0., 0., 0., 0., 0., 0., 0.,\n",
      "       0.])\n"
     ]
    }
   ],
   "source": [
    "print(f\"Simulated time: {data.time} sec\")\n",
    "print(f\"Default timestep: {model.opt.timestep} sec\")\n",
    "print(f\"Degrees of freedom: {model.nv=}\")\n",
    "\n",
    "# Position has 1 extra dimension since orientation is represented with\n",
    "# quaternions (4-values) while angular velocity has 3 values.\n",
    "print(f\"{len(data.qpos)=} {data.qpos=}\")\n",
    "print(f\"{len(data.qvel)=} {data.qvel=}\")"
   ]
  },
  {
   "cell_type": "code",
   "execution_count": 31,
   "metadata": {},
   "outputs": [
    {
     "name": "stdout",
     "output_type": "stream",
     "text": [
      "data.time=0.00 data.qpos[index]=3.00 data.qvel[index]=-0.00\n",
      "data.time=0.00 data.qpos[index]=3.00 data.qvel[index]=-0.00\n",
      "data.time=0.01 data.qpos[index]=3.00 data.qvel[index]=-0.01\n",
      "data.time=0.01 data.qpos[index]=3.00 data.qvel[index]=-0.01\n",
      "data.time=0.01 data.qpos[index]=3.00 data.qvel[index]=-0.02\n",
      "data.time=0.01 data.qpos[index]=3.00 data.qvel[index]=-0.02\n",
      "data.time=0.01 data.qpos[index]=3.00 data.qvel[index]=-0.03\n",
      "data.time=0.02 data.qpos[index]=3.00 data.qvel[index]=-0.03\n",
      "data.time=0.02 data.qpos[index]=3.00 data.qvel[index]=-0.04\n",
      "data.time=0.02 data.qpos[index]=3.00 data.qvel[index]=-0.04\n",
      "data.time=0.02 data.qpos[index]=3.00 data.qvel[index]=-0.05\n",
      "data.time=0.02 data.qpos[index]=3.00 data.qvel[index]=-0.05\n",
      "data.time=0.03 data.qpos[index]=3.00 data.qvel[index]=-0.06\n",
      "data.time=0.03 data.qpos[index]=3.00 data.qvel[index]=-0.06\n",
      "data.time=0.03 data.qpos[index]=3.00 data.qvel[index]=-0.06\n",
      "data.time=0.03 data.qpos[index]=3.00 data.qvel[index]=-0.06\n",
      "data.time=0.03 data.qpos[index]=3.00 data.qvel[index]=-0.06\n",
      "data.time=0.04 data.qpos[index]=3.00 data.qvel[index]=-0.06\n",
      "data.time=0.04 data.qpos[index]=3.00 data.qvel[index]=-0.06\n",
      "data.time=0.04 data.qpos[index]=3.00 data.qvel[index]=-0.06\n",
      "data.time=0.04 data.qpos[index]=3.00 data.qvel[index]=-0.06\n",
      "data.time=0.04 data.qpos[index]=3.00 data.qvel[index]=-0.06\n",
      "data.time=0.05 data.qpos[index]=3.00 data.qvel[index]=-0.06\n",
      "data.time=0.05 data.qpos[index]=3.00 data.qvel[index]=-0.06\n",
      "data.time=0.05 data.qpos[index]=3.00 data.qvel[index]=-0.06\n",
      "data.time=0.05 data.qpos[index]=3.00 data.qvel[index]=-0.06\n",
      "data.time=0.05 data.qpos[index]=3.00 data.qvel[index]=-0.05\n",
      "data.time=0.06 data.qpos[index]=3.00 data.qvel[index]=-0.05\n",
      "data.time=0.06 data.qpos[index]=3.00 data.qvel[index]=-0.05\n",
      "data.time=0.06 data.qpos[index]=3.00 data.qvel[index]=-0.05\n",
      "data.time=0.06 data.qpos[index]=3.00 data.qvel[index]=-0.05\n",
      "data.time=0.06 data.qpos[index]=3.00 data.qvel[index]=-0.04\n",
      "data.time=0.07 data.qpos[index]=3.00 data.qvel[index]=-0.04\n",
      "data.time=0.07 data.qpos[index]=3.00 data.qvel[index]=-0.04\n",
      "data.time=0.07 data.qpos[index]=3.00 data.qvel[index]=-0.04\n",
      "data.time=0.07 data.qpos[index]=3.00 data.qvel[index]=-0.04\n",
      "data.time=0.07 data.qpos[index]=3.00 data.qvel[index]=-0.03\n",
      "data.time=0.08 data.qpos[index]=3.00 data.qvel[index]=-0.03\n",
      "data.time=0.08 data.qpos[index]=3.00 data.qvel[index]=-0.03\n",
      "data.time=0.08 data.qpos[index]=3.00 data.qvel[index]=-0.03\n",
      "data.time=0.08 data.qpos[index]=3.00 data.qvel[index]=-0.03\n",
      "data.time=0.08 data.qpos[index]=3.00 data.qvel[index]=-0.03\n",
      "data.time=0.09 data.qpos[index]=3.00 data.qvel[index]=-0.02\n",
      "data.time=0.09 data.qpos[index]=3.00 data.qvel[index]=-0.02\n",
      "data.time=0.09 data.qpos[index]=3.00 data.qvel[index]=-0.02\n",
      "data.time=0.09 data.qpos[index]=3.00 data.qvel[index]=-0.02\n",
      "data.time=0.09 data.qpos[index]=3.00 data.qvel[index]=-0.02\n",
      "data.time=0.10 data.qpos[index]=3.00 data.qvel[index]=-0.02\n",
      "data.time=0.10 data.qpos[index]=3.00 data.qvel[index]=-0.02\n",
      "data.time=0.10 data.qpos[index]=3.00 data.qvel[index]=-0.01\n",
      "data.time=0.10 data.qpos[index]=3.00 data.qvel[index]=-0.01\n",
      "data.time=0.10 data.qpos[index]=3.00 data.qvel[index]=-0.01\n",
      "data.time=0.11 data.qpos[index]=3.00 data.qvel[index]=-0.01\n",
      "data.time=0.11 data.qpos[index]=3.00 data.qvel[index]=-0.02\n",
      "data.time=0.11 data.qpos[index]=3.00 data.qvel[index]=-0.03\n",
      "data.time=0.11 data.qpos[index]=3.00 data.qvel[index]=-0.06\n",
      "data.time=0.11 data.qpos[index]=3.00 data.qvel[index]=-0.08\n",
      "data.time=0.12 data.qpos[index]=3.00 data.qvel[index]=-0.10\n",
      "data.time=0.12 data.qpos[index]=3.00 data.qvel[index]=-0.12\n",
      "data.time=0.12 data.qpos[index]=2.99 data.qvel[index]=-0.15\n",
      "data.time=0.12 data.qpos[index]=2.99 data.qvel[index]=-0.17\n",
      "data.time=0.12 data.qpos[index]=2.99 data.qvel[index]=-0.19\n",
      "data.time=0.13 data.qpos[index]=2.99 data.qvel[index]=-0.21\n",
      "data.time=0.13 data.qpos[index]=2.99 data.qvel[index]=-0.23\n",
      "data.time=0.13 data.qpos[index]=2.99 data.qvel[index]=-0.25\n"
     ]
    }
   ],
   "source": [
    "import time\n",
    "import math\n",
    "# Setup viewer\n",
    "viewer = mujoco_viewer.MujocoViewer(model, data)\n",
    "\n",
    "# Reset the simulation\n",
    "mujoco.mj_resetDataKeyframe(model, data, 0)\n",
    "\n",
    "# data.qvel 18 values. It is matched to the order of the \"joint\" elements in the XML file.\n",
    "# The order is as follows:\n",
    "# 0: trunk_tx, 1: trunk_ty, 2: trunk_tz\n",
    "# 3: trunk_list (roll), 4: trunk_tilt (pitch, +forward), 5: trunk_rotation (yaw, +left)\n",
    "\n",
    "\n",
    "# Linear Velocity/Torque: 0=forward, 1=left, 2=up\n",
    "# Anguar Velocity/Torque: 3=roll right, 4=pitch forward, 5=yaw left (from above)\n",
    "# 6=FR_hip, 7=FR_thigh, 8=FR_calf\n",
    "# 9=FL_hip, 10=FL_thigh, 11=FL_calf\n",
    "# 12=RR_hip, 13=RR_thigh, 14=RR_calf\n",
    "# 15=RL_hip, 16=RL_thigh, 17=RL_calf\n",
    "data.qpos[0] = 3.0\n",
    "\n",
    "for i in range(1000):\n",
    "    if viewer.is_alive:\n",
    "        mujoco.mj_step(model, data)\n",
    "        index = 0\n",
    "        # if i == 0:\n",
    "            # data.qvel[index] = -50.0 # Is relative to the world\n",
    "\n",
    "        viewer.render()\n",
    "        print(f\"{data.time=:.2f} {data.qpos[index]=:.2f} {data.qvel[index]=:.2f}\")\n",
    "        time.sleep(0.05)\n",
    "    else:\n",
    "        break\n",
    "\n",
    "viewer.close()"
   ]
  }
 ],
 "metadata": {
  "kernelspec": {
   "display_name": ".venv",
   "language": "python",
   "name": "python3"
  },
  "language_info": {
   "codemirror_mode": {
    "name": "ipython",
    "version": 3
   },
   "file_extension": ".py",
   "mimetype": "text/x-python",
   "name": "python",
   "nbconvert_exporter": "python",
   "pygments_lexer": "ipython3",
   "version": "3.8.10"
  }
 },
 "nbformat": 4,
 "nbformat_minor": 2
}
