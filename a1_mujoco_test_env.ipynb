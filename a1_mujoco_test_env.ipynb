{
 "cells": [
  {
   "cell_type": "markdown",
   "metadata": {},
   "source": [
    "A more complete notebook can be found [here](https://colab.research.google.com/github/google-deepmind/mujoco/blob/main/python/tutorial.ipynb)"
   ]
  },
  {
   "cell_type": "code",
   "execution_count": 14,
   "metadata": {},
   "outputs": [],
   "source": [
    "import mujoco\n",
    "import mujoco_viewer\n",
    "\n",
    "# scene.xml includes the robot model and a simple environment\n",
    "# model = mujoco.MjModel.from_xml_path(\"./unitree_go1/scene.xml\")\n",
    "model = mujoco.MjModel.from_xml_path(\"./unitree_a1/unitree_a1_torque.xml\")\n",
    "\n",
    "# Contains the state of the model (time: .time, pos: .qpos, vel: .qvel) \n",
    "data = mujoco.MjData(model)"
   ]
  },
  {
   "cell_type": "code",
   "execution_count": 17,
   "metadata": {},
   "outputs": [
    {
     "name": "stdout",
     "output_type": "stream",
     "text": [
      "\"Invalid name ''. Valid names: ['FL_foot', 'FR_foot', 'RL_foot', 'RR_foot', 'floor']\"\n",
      "\"Invalid name ''. Valid names: ['FL_calf', 'FL_hip', 'FL_thigh', 'FR_calf', 'FR_hip', 'FR_thigh', 'RL_calf', 'RL_hip', 'RL_thigh', 'RR_calf', 'RR_hip', 'RR_thigh', 'trunk', 'world']\"\n"
     ]
    },
    {
     "data": {
      "text/plain": [
       "array([0., 0., 0.])"
      ]
     },
     "execution_count": 17,
     "metadata": {},
     "output_type": "execute_result"
    }
   ],
   "source": [
    "# Print out the name of the body accessors\n",
    "try:\n",
    "    model.geom()\n",
    "except KeyError as e:\n",
    "    print(e)\n",
    "    \n",
    "try:\n",
    "    data.body()\n",
    "except KeyError as e:\n",
    "    print(e)\n",
    "    \n",
    "data.body(\"FL_calf\").xpos # Position updates after simulation step"
   ]
  },
  {
   "cell_type": "code",
   "execution_count": 4,
   "metadata": {},
   "outputs": [
    {
     "data": {
      "text/plain": [
       "<_MjModelGeomViews\n",
       "  bodyid: array([7])\n",
       "  conaffinity: array([1])\n",
       "  condim: array([6])\n",
       "  contype: array([1])\n",
       "  dataid: array([-1])\n",
       "  friction: array([0.8 , 0.02, 0.01])\n",
       "  gap: array([0.])\n",
       "  group: array([1])\n",
       "  id: 30\n",
       "  margin: array([0.001])\n",
       "  matid: array([-1])\n",
       "  name: 'FL_foot'\n",
       "  pos: array([ 0. ,  0. , -0.2])\n",
       "  priority: array([1])\n",
       "  quat: array([1., 0., 0., 0.])\n",
       "  rbound: array([0.02])\n",
       "  rgba: array([0.5, 0.6, 0.7, 0.2], dtype=float32)\n",
       "  sameframe: array([0], dtype=uint8)\n",
       "  size: array([0.02, 0.  , 0.  ])\n",
       "  solimp: array([0.015, 1.   , 0.031, 0.5  , 2.   ])\n",
       "  solmix: array([1.])\n",
       "  solref: array([0.02, 1.  ])\n",
       "  type: array([2])\n",
       "  user: array([], dtype=float64)\n",
       ">"
      ]
     },
     "execution_count": 4,
     "metadata": {},
     "output_type": "execute_result"
    }
   ],
   "source": [
    "model.geom(\"FL_foot\")"
   ]
  },
  {
   "cell_type": "code",
   "execution_count": 5,
   "metadata": {},
   "outputs": [
    {
     "name": "stdout",
     "output_type": "stream",
     "text": [
      "Simulated time: 0.0 sec\n",
      "Default timestep: 0.002 sec\n",
      "Degrees of freedom: model.nv=18\n",
      "len(data.qpos)=18 data.qpos=array([0., 0., 0., 0., 0., 0., 0., 0., 0., 0., 0., 0., 0., 0., 0., 0., 0.,\n",
      "       0.])\n",
      "len(data.qvel)=18 data.qvel=array([0., 0., 0., 0., 0., 0., 0., 0., 0., 0., 0., 0., 0., 0., 0., 0., 0.,\n",
      "       0.])\n"
     ]
    }
   ],
   "source": [
    "print(f\"Simulated time: {data.time} sec\")\n",
    "print(f\"Default timestep: {model.opt.timestep} sec\")\n",
    "print(f\"Degrees of freedom: {model.nv=}\")\n",
    "\n",
    "# Position has 1 extra dimension since orientation is represented with\n",
    "# quaternions (4-values) while angular velocity has 3 values.\n",
    "print(f\"{len(data.qpos)=} {data.qpos=}\")\n",
    "print(f\"{len(data.qvel)=} {data.qvel=}\")"
   ]
  },
  {
   "cell_type": "code",
   "execution_count": 13,
   "metadata": {},
   "outputs": [
    {
     "name": "stdout",
     "output_type": "stream",
     "text": [
      "data.time=0.00 data.qpos[index]=-0.00 data.qvel[index]=-0.00\n",
      "data.time=0.00 data.qpos[index]=-0.00 data.qvel[index]=-0.00\n",
      "data.time=0.01 data.qpos[index]=-0.00 data.qvel[index]=-0.01\n",
      "data.time=0.01 data.qpos[index]=-0.00 data.qvel[index]=-0.01\n",
      "data.time=0.01 data.qpos[index]=-0.00 data.qvel[index]=-0.02\n",
      "data.time=0.01 data.qpos[index]=-0.00 data.qvel[index]=-0.02\n",
      "data.time=0.01 data.qpos[index]=-0.00 data.qvel[index]=-0.03\n",
      "data.time=0.02 data.qpos[index]=-0.00 data.qvel[index]=-0.03\n",
      "data.time=0.02 data.qpos[index]=-0.00 data.qvel[index]=-0.04\n",
      "data.time=0.02 data.qpos[index]=-0.00 data.qvel[index]=-0.04\n",
      "data.time=0.02 data.qpos[index]=-0.00 data.qvel[index]=-0.05\n",
      "data.time=0.02 data.qpos[index]=-0.00 data.qvel[index]=-0.05\n",
      "data.time=0.03 data.qpos[index]=-0.00 data.qvel[index]=-0.06\n",
      "data.time=0.03 data.qpos[index]=-0.00 data.qvel[index]=-0.06\n",
      "data.time=0.03 data.qpos[index]=-0.00 data.qvel[index]=-0.06\n",
      "data.time=0.03 data.qpos[index]=-0.00 data.qvel[index]=-0.06\n",
      "data.time=0.03 data.qpos[index]=-0.00 data.qvel[index]=-0.06\n",
      "data.time=0.04 data.qpos[index]=-0.00 data.qvel[index]=-0.06\n",
      "data.time=0.04 data.qpos[index]=-0.00 data.qvel[index]=-0.06\n",
      "data.time=0.04 data.qpos[index]=-0.00 data.qvel[index]=-0.06\n",
      "data.time=0.04 data.qpos[index]=-0.00 data.qvel[index]=-0.06\n",
      "data.time=0.04 data.qpos[index]=-0.00 data.qvel[index]=-0.06\n",
      "data.time=0.05 data.qpos[index]=-0.00 data.qvel[index]=-0.06\n",
      "data.time=0.05 data.qpos[index]=-0.00 data.qvel[index]=-0.06\n",
      "data.time=0.05 data.qpos[index]=-0.00 data.qvel[index]=-0.06\n",
      "data.time=0.05 data.qpos[index]=-0.00 data.qvel[index]=-0.06\n",
      "data.time=0.05 data.qpos[index]=-0.00 data.qvel[index]=-0.05\n",
      "data.time=0.06 data.qpos[index]=-0.00 data.qvel[index]=-0.05\n",
      "data.time=0.06 data.qpos[index]=-0.00 data.qvel[index]=-0.05\n",
      "data.time=0.06 data.qpos[index]=-0.00 data.qvel[index]=-0.05\n",
      "data.time=0.06 data.qpos[index]=-0.00 data.qvel[index]=-0.05\n",
      "data.time=0.06 data.qpos[index]=-0.00 data.qvel[index]=-0.04\n",
      "data.time=0.07 data.qpos[index]=-0.00 data.qvel[index]=-0.04\n",
      "data.time=0.07 data.qpos[index]=-0.00 data.qvel[index]=-0.04\n",
      "data.time=0.07 data.qpos[index]=-0.00 data.qvel[index]=-0.04\n",
      "data.time=0.07 data.qpos[index]=-0.00 data.qvel[index]=-0.04\n",
      "data.time=0.07 data.qpos[index]=-0.00 data.qvel[index]=-0.03\n",
      "data.time=0.08 data.qpos[index]=-0.00 data.qvel[index]=-0.03\n",
      "data.time=0.08 data.qpos[index]=-0.00 data.qvel[index]=-0.03\n",
      "data.time=0.08 data.qpos[index]=-0.00 data.qvel[index]=-0.03\n",
      "data.time=0.08 data.qpos[index]=-0.00 data.qvel[index]=-0.03\n",
      "data.time=0.08 data.qpos[index]=-0.00 data.qvel[index]=-0.03\n",
      "data.time=0.09 data.qpos[index]=-0.00 data.qvel[index]=-0.02\n",
      "data.time=0.09 data.qpos[index]=-0.00 data.qvel[index]=-0.02\n",
      "data.time=0.09 data.qpos[index]=-0.00 data.qvel[index]=-0.02\n",
      "data.time=0.09 data.qpos[index]=-0.00 data.qvel[index]=-0.02\n",
      "data.time=0.09 data.qpos[index]=-0.00 data.qvel[index]=-0.02\n",
      "data.time=0.10 data.qpos[index]=-0.00 data.qvel[index]=-0.02\n",
      "data.time=0.10 data.qpos[index]=-0.00 data.qvel[index]=-0.02\n",
      "data.time=0.10 data.qpos[index]=-0.00 data.qvel[index]=-0.01\n",
      "data.time=0.10 data.qpos[index]=-0.00 data.qvel[index]=-0.01\n",
      "data.time=0.10 data.qpos[index]=-0.00 data.qvel[index]=-0.01\n",
      "data.time=0.11 data.qpos[index]=-0.00 data.qvel[index]=-0.01\n",
      "data.time=0.11 data.qpos[index]=-0.00 data.qvel[index]=-0.02\n",
      "data.time=0.11 data.qpos[index]=-0.00 data.qvel[index]=-0.03\n",
      "data.time=0.11 data.qpos[index]=-0.00 data.qvel[index]=-0.06\n",
      "data.time=0.11 data.qpos[index]=-0.00 data.qvel[index]=-0.08\n",
      "data.time=0.12 data.qpos[index]=-0.00 data.qvel[index]=-0.10\n",
      "data.time=0.12 data.qpos[index]=-0.00 data.qvel[index]=-0.12\n",
      "data.time=0.12 data.qpos[index]=-0.01 data.qvel[index]=-0.15\n",
      "data.time=0.12 data.qpos[index]=-0.01 data.qvel[index]=-0.17\n",
      "data.time=0.12 data.qpos[index]=-0.01 data.qvel[index]=-0.19\n",
      "data.time=0.13 data.qpos[index]=-0.01 data.qvel[index]=-0.21\n",
      "data.time=0.13 data.qpos[index]=-0.01 data.qvel[index]=-0.23\n",
      "data.time=0.13 data.qpos[index]=-0.01 data.qvel[index]=-0.25\n",
      "data.time=0.13 data.qpos[index]=-0.01 data.qvel[index]=-0.27\n",
      "data.time=0.13 data.qpos[index]=-0.01 data.qvel[index]=-0.29\n",
      "data.time=0.14 data.qpos[index]=-0.01 data.qvel[index]=-0.31\n",
      "data.time=0.14 data.qpos[index]=-0.01 data.qvel[index]=-0.33\n",
      "data.time=0.14 data.qpos[index]=-0.01 data.qvel[index]=-0.34\n",
      "data.time=0.14 data.qpos[index]=-0.01 data.qvel[index]=-0.36\n",
      "data.time=0.14 data.qpos[index]=-0.01 data.qvel[index]=-0.38\n",
      "data.time=0.15 data.qpos[index]=-0.01 data.qvel[index]=-0.40\n",
      "data.time=0.15 data.qpos[index]=-0.01 data.qvel[index]=-0.43\n",
      "data.time=0.15 data.qpos[index]=-0.01 data.qvel[index]=-0.46\n",
      "data.time=0.15 data.qpos[index]=-0.02 data.qvel[index]=-0.48\n",
      "data.time=0.15 data.qpos[index]=-0.02 data.qvel[index]=-0.51\n",
      "data.time=0.16 data.qpos[index]=-0.02 data.qvel[index]=-0.53\n",
      "data.time=0.16 data.qpos[index]=-0.02 data.qvel[index]=-0.55\n"
     ]
    },
    {
     "ename": "KeyboardInterrupt",
     "evalue": "",
     "output_type": "error",
     "traceback": [
      "\u001b[1;31m---------------------------------------------------------------------------\u001b[0m",
      "\u001b[1;31mKeyboardInterrupt\u001b[0m                         Traceback (most recent call last)",
      "Cell \u001b[1;32mIn[13], line 36\u001b[0m\n\u001b[0;32m     34\u001b[0m     viewer\u001b[38;5;241m.\u001b[39mrender()\n\u001b[0;32m     35\u001b[0m     \u001b[38;5;28mprint\u001b[39m(\u001b[38;5;124mf\u001b[39m\u001b[38;5;124m\"\u001b[39m\u001b[38;5;132;01m{\u001b[39;00mdata\u001b[38;5;241m.\u001b[39mtime\u001b[38;5;132;01m=:\u001b[39;00m\u001b[38;5;124m.2f\u001b[39m\u001b[38;5;132;01m}\u001b[39;00m\u001b[38;5;124m \u001b[39m\u001b[38;5;132;01m{\u001b[39;00mdata\u001b[38;5;241m.\u001b[39mqpos[index]\u001b[38;5;132;01m=:\u001b[39;00m\u001b[38;5;124m.2f\u001b[39m\u001b[38;5;132;01m}\u001b[39;00m\u001b[38;5;124m \u001b[39m\u001b[38;5;132;01m{\u001b[39;00mdata\u001b[38;5;241m.\u001b[39mqvel[index]\u001b[38;5;132;01m=:\u001b[39;00m\u001b[38;5;124m.2f\u001b[39m\u001b[38;5;132;01m}\u001b[39;00m\u001b[38;5;124m\"\u001b[39m)\n\u001b[1;32m---> 36\u001b[0m     \u001b[43mtime\u001b[49m\u001b[38;5;241;43m.\u001b[39;49m\u001b[43msleep\u001b[49m\u001b[43m(\u001b[49m\u001b[38;5;241;43m0.05\u001b[39;49m\u001b[43m)\u001b[49m\n\u001b[0;32m     37\u001b[0m \u001b[38;5;28;01melse\u001b[39;00m:\n\u001b[0;32m     38\u001b[0m     \u001b[38;5;28;01mbreak\u001b[39;00m\n",
      "\u001b[1;31mKeyboardInterrupt\u001b[0m: "
     ]
    }
   ],
   "source": [
    "import time\n",
    "import math\n",
    "# Setup viewer\n",
    "viewer = mujoco_viewer.MujocoViewer(model, data)\n",
    "\n",
    "# Reset the simulation\n",
    "mujoco.mj_resetDataKeyframe(model, data, 0)\n",
    "\n",
    "# data.qvel 18 values. It is matched to the order of the \"joint\" elements in the XML file.\n",
    "# The order is as follows:\n",
    "# 0: trunk_tx, 1: trunk_ty, 2: trunk_tz\n",
    "# 3: trunk_list (roll), 4: trunk_tilt (pitch, +forward), 5: trunk_rotation (yaw, +left)\n",
    "\n",
    "\n",
    "# Linear Velocity/Torque: 0=forward, 1=left, 2=up\n",
    "# Anguar Velocity/Torque: 3=roll right, 4=pitch forward, 5=yaw left (from above)\n",
    "# 6=FR_hip, 7=FR_thigh, 8=FR_calf\n",
    "# 9=FL_hip, 10=FL_thigh, 11=FL_calf\n",
    "# 12=RR_hip, 13=RR_thigh, 14=RR_calf\n",
    "# 15=RL_hip, 16=RL_thigh, 17=RL_calf\n",
    "\n",
    "# xpos (14x 3d vectors) and xquat (4) are the global position and orientation of the body (i.e. after forward kinematics)\n",
    "# List of all data fields: https://github.com/atabakd/MuJoCo-Tutorials/blob/d6b86726ca9f01e682a45c4de7c11761ec326d38/include/mjdata.h#L186\n",
    "\n",
    "# data.qpos[0] = 3.0\n",
    "\n",
    "for i in range(1000):\n",
    "    if viewer.is_alive:\n",
    "        mujoco.mj_step(model, data)\n",
    "        index = 0\n",
    "        # if i == 0:\n",
    "            # data.qvel[index] = -50.0 # Is relative to the world\n",
    "\n",
    "        viewer.render()\n",
    "        print(f\"{data.time=:.2f} {data.qpos[index]=:.2f} {data.qvel[index]=:.2f}\")\n",
    "        time.sleep(0.05)\n",
    "    else:\n",
    "        break\n",
    "\n",
    "viewer.close()"
   ]
  }
 ],
 "metadata": {
  "kernelspec": {
   "display_name": ".venv",
   "language": "python",
   "name": "python3"
  },
  "language_info": {
   "codemirror_mode": {
    "name": "ipython",
    "version": 3
   },
   "file_extension": ".py",
   "mimetype": "text/x-python",
   "name": "python",
   "nbconvert_exporter": "python",
   "pygments_lexer": "ipython3",
   "version": "3.8.10"
  }
 },
 "nbformat": 4,
 "nbformat_minor": 2
}
