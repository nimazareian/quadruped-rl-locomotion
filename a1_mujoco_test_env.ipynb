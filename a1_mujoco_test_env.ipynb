{
 "cells": [
  {
   "cell_type": "markdown",
   "metadata": {},
   "source": [
    "A more complete notebook can be found [here](https://colab.research.google.com/github/google-deepmind/mujoco/blob/main/python/tutorial.ipynb)"
   ]
  },
  {
   "cell_type": "code",
   "execution_count": 1,
   "metadata": {},
   "outputs": [],
   "source": [
    "import mujoco\n",
    "import mujoco_viewer\n",
    "\n",
    "# scene.xml includes the robot model and a simple environment\n",
    "# model = mujoco.MjModel.from_xml_path(\"./unitree_go1/scene.xml\")\n",
    "model = mujoco.MjModel.from_xml_path(\"./unitree_a1/unitree_a1_torque.xml\")\n",
    "\n",
    "# Contains the state of the model (time: .time, pos: .qpos, vel: .qvel) \n",
    "data = mujoco.MjData(model)"
   ]
  },
  {
   "cell_type": "code",
   "execution_count": 2,
   "metadata": {},
   "outputs": [
    {
     "name": "stdout",
     "output_type": "stream",
     "text": [
      "\"Invalid name ''. Valid names: ['FL_foot', 'FR_foot', 'RL_foot', 'RR_foot', 'floor']\"\n"
     ]
    }
   ],
   "source": [
    "# Print out the name of the body accessors\n",
    "try:\n",
    "    model.geom()\n",
    "except KeyError as e:\n",
    "    print(e)"
   ]
  },
  {
   "cell_type": "code",
   "execution_count": 3,
   "metadata": {},
   "outputs": [
    {
     "data": {
      "text/plain": [
       "<_MjModelGeomViews\n",
       "  bodyid: array([7])\n",
       "  conaffinity: array([1])\n",
       "  condim: array([6])\n",
       "  contype: array([1])\n",
       "  dataid: array([-1])\n",
       "  friction: array([0.8 , 0.02, 0.01])\n",
       "  gap: array([0.])\n",
       "  group: array([1])\n",
       "  id: 30\n",
       "  margin: array([0.001])\n",
       "  matid: array([-1])\n",
       "  name: 'FL_foot'\n",
       "  pos: array([ 0. ,  0. , -0.2])\n",
       "  priority: array([1])\n",
       "  quat: array([1., 0., 0., 0.])\n",
       "  rbound: array([0.02])\n",
       "  rgba: array([0.5, 0.6, 0.7, 0.2], dtype=float32)\n",
       "  sameframe: array([0], dtype=uint8)\n",
       "  size: array([0.02, 0.  , 0.  ])\n",
       "  solimp: array([0.015, 1.   , 0.031, 0.5  , 2.   ])\n",
       "  solmix: array([1.])\n",
       "  solref: array([0.02, 1.  ])\n",
       "  type: array([2])\n",
       "  user: array([], dtype=float64)\n",
       ">"
      ]
     },
     "execution_count": 3,
     "metadata": {},
     "output_type": "execute_result"
    }
   ],
   "source": [
    "model.geom(\"FL_foot\")"
   ]
  },
  {
   "cell_type": "code",
   "execution_count": 4,
   "metadata": {},
   "outputs": [
    {
     "name": "stdout",
     "output_type": "stream",
     "text": [
      "Simulated time: 0.0 sec\n",
      "Default timestep: 0.002 sec\n",
      "Degrees of freedom: model.nv=18\n",
      "len(data.qpos)=18 data.qpos=array([0., 0., 0., 0., 0., 0., 0., 0., 0., 0., 0., 0., 0., 0., 0., 0., 0.,\n",
      "       0.])\n",
      "len(data.qvel)=18 data.qvel=array([0., 0., 0., 0., 0., 0., 0., 0., 0., 0., 0., 0., 0., 0., 0., 0., 0.,\n",
      "       0.])\n"
     ]
    }
   ],
   "source": [
    "print(f\"Simulated time: {data.time} sec\")\n",
    "print(f\"Default timestep: {model.opt.timestep} sec\")\n",
    "print(f\"Degrees of freedom: {model.nv=}\")\n",
    "\n",
    "# Position has 1 extra dimension since orientation is represented with\n",
    "# quaternions (4-values) while angular velocity has 3 values.\n",
    "print(f\"{len(data.qpos)=} {data.qpos=}\")\n",
    "print(f\"{len(data.qvel)=} {data.qvel=}\")"
   ]
  },
  {
   "cell_type": "code",
   "execution_count": 29,
   "metadata": {},
   "outputs": [
    {
     "name": "stdout",
     "output_type": "stream",
     "text": [
      "data.time=0.00 data.qpos[index]=0.00 data.qvel[index]=-50.00\n",
      "data.time=0.00 data.qpos[index]=-0.10 data.qvel[index]=-50.00\n",
      "data.time=0.01 data.qpos[index]=-0.20 data.qvel[index]=-49.99\n",
      "data.time=0.01 data.qpos[index]=-0.30 data.qvel[index]=-49.99\n",
      "data.time=0.01 data.qpos[index]=-0.40 data.qvel[index]=-49.98\n",
      "data.time=0.01 data.qpos[index]=-0.50 data.qvel[index]=-49.98\n",
      "data.time=0.01 data.qpos[index]=-0.60 data.qvel[index]=-49.97\n",
      "data.time=0.02 data.qpos[index]=-0.70 data.qvel[index]=-49.97\n",
      "data.time=0.02 data.qpos[index]=-0.80 data.qvel[index]=-49.96\n",
      "data.time=0.02 data.qpos[index]=-0.90 data.qvel[index]=-49.95\n",
      "data.time=0.02 data.qpos[index]=-1.00 data.qvel[index]=-49.95\n",
      "data.time=0.02 data.qpos[index]=-1.10 data.qvel[index]=-49.95\n",
      "data.time=0.03 data.qpos[index]=-1.20 data.qvel[index]=-49.94\n",
      "data.time=0.03 data.qpos[index]=-1.30 data.qvel[index]=-49.94\n",
      "data.time=0.03 data.qpos[index]=-1.40 data.qvel[index]=-49.94\n",
      "data.time=0.03 data.qpos[index]=-1.50 data.qvel[index]=-49.94\n",
      "data.time=0.03 data.qpos[index]=-1.60 data.qvel[index]=-49.94\n",
      "data.time=0.04 data.qpos[index]=-1.70 data.qvel[index]=-49.94\n",
      "data.time=0.04 data.qpos[index]=-1.80 data.qvel[index]=-49.94\n",
      "data.time=0.04 data.qpos[index]=-1.90 data.qvel[index]=-49.94\n",
      "data.time=0.04 data.qpos[index]=-2.00 data.qvel[index]=-49.94\n",
      "data.time=0.04 data.qpos[index]=-2.10 data.qvel[index]=-49.94\n",
      "data.time=0.05 data.qpos[index]=-2.20 data.qvel[index]=-49.94\n",
      "data.time=0.05 data.qpos[index]=-2.30 data.qvel[index]=-49.94\n",
      "data.time=0.05 data.qpos[index]=-2.40 data.qvel[index]=-49.94\n",
      "data.time=0.05 data.qpos[index]=-2.50 data.qvel[index]=-49.94\n",
      "data.time=0.05 data.qpos[index]=-2.60 data.qvel[index]=-49.94\n",
      "data.time=0.06 data.qpos[index]=-2.70 data.qvel[index]=-49.95\n",
      "data.time=0.06 data.qpos[index]=-2.80 data.qvel[index]=-49.95\n",
      "data.time=0.06 data.qpos[index]=-2.90 data.qvel[index]=-49.95\n",
      "data.time=0.06 data.qpos[index]=-3.00 data.qvel[index]=-49.95\n",
      "data.time=0.06 data.qpos[index]=-3.10 data.qvel[index]=-49.95\n",
      "data.time=0.07 data.qpos[index]=-3.20 data.qvel[index]=-49.96\n",
      "data.time=0.07 data.qpos[index]=-3.30 data.qvel[index]=-49.96\n",
      "data.time=0.07 data.qpos[index]=-3.40 data.qvel[index]=-49.96\n",
      "data.time=0.07 data.qpos[index]=-3.50 data.qvel[index]=-49.96\n",
      "data.time=0.07 data.qpos[index]=-3.60 data.qvel[index]=-49.96\n",
      "data.time=0.08 data.qpos[index]=-3.70 data.qvel[index]=-49.97\n",
      "data.time=0.08 data.qpos[index]=-3.80 data.qvel[index]=-49.97\n",
      "data.time=0.08 data.qpos[index]=-3.90 data.qvel[index]=-49.97\n",
      "data.time=0.08 data.qpos[index]=-4.00 data.qvel[index]=-49.97\n",
      "data.time=0.08 data.qpos[index]=-4.10 data.qvel[index]=-49.97\n",
      "data.time=0.09 data.qpos[index]=-4.20 data.qvel[index]=-49.97\n",
      "data.time=0.09 data.qpos[index]=-4.30 data.qvel[index]=-49.98\n",
      "data.time=0.09 data.qpos[index]=-4.40 data.qvel[index]=-49.98\n",
      "data.time=0.09 data.qpos[index]=-4.50 data.qvel[index]=-49.98\n",
      "data.time=0.09 data.qpos[index]=-4.60 data.qvel[index]=-49.98\n",
      "data.time=0.10 data.qpos[index]=-4.70 data.qvel[index]=-49.98\n",
      "data.time=0.10 data.qpos[index]=-4.80 data.qvel[index]=-49.98\n",
      "data.time=0.10 data.qpos[index]=-4.90 data.qvel[index]=-49.97\n",
      "data.time=0.10 data.qpos[index]=-5.00 data.qvel[index]=-49.96\n",
      "data.time=0.10 data.qpos[index]=-5.10 data.qvel[index]=-49.93\n",
      "data.time=0.11 data.qpos[index]=-5.20 data.qvel[index]=-49.89\n",
      "data.time=0.11 data.qpos[index]=-5.30 data.qvel[index]=-49.82\n",
      "data.time=0.11 data.qpos[index]=-5.39 data.qvel[index]=-49.73\n",
      "data.time=0.11 data.qpos[index]=-5.49 data.qvel[index]=-49.29\n",
      "data.time=0.11 data.qpos[index]=-5.59 data.qvel[index]=-48.91\n",
      "data.time=0.12 data.qpos[index]=-5.69 data.qvel[index]=-48.62\n",
      "data.time=0.12 data.qpos[index]=-5.79 data.qvel[index]=-48.48\n",
      "data.time=0.12 data.qpos[index]=-5.88 data.qvel[index]=-48.36\n",
      "data.time=0.12 data.qpos[index]=-5.98 data.qvel[index]=-48.25\n",
      "data.time=0.12 data.qpos[index]=-6.07 data.qvel[index]=-48.16\n",
      "data.time=0.13 data.qpos[index]=-6.17 data.qvel[index]=-48.08\n",
      "data.time=0.13 data.qpos[index]=-6.27 data.qvel[index]=-48.01\n",
      "data.time=0.13 data.qpos[index]=-6.36 data.qvel[index]=-47.95\n",
      "data.time=0.13 data.qpos[index]=-6.46 data.qvel[index]=-47.90\n",
      "data.time=0.13 data.qpos[index]=-6.55 data.qvel[index]=-47.85\n",
      "data.time=0.14 data.qpos[index]=-6.65 data.qvel[index]=-47.81\n",
      "data.time=0.14 data.qpos[index]=-6.75 data.qvel[index]=-47.77\n",
      "data.time=0.14 data.qpos[index]=-6.84 data.qvel[index]=-47.75\n",
      "data.time=0.14 data.qpos[index]=-6.94 data.qvel[index]=-47.72\n",
      "data.time=0.14 data.qpos[index]=-7.03 data.qvel[index]=-47.70\n",
      "data.time=0.15 data.qpos[index]=-7.13 data.qvel[index]=-47.69\n",
      "data.time=0.15 data.qpos[index]=-7.22 data.qvel[index]=-47.67\n",
      "data.time=0.15 data.qpos[index]=-7.32 data.qvel[index]=-47.66\n",
      "data.time=0.15 data.qpos[index]=-7.41 data.qvel[index]=-47.66\n",
      "data.time=0.15 data.qpos[index]=-7.51 data.qvel[index]=-47.65\n",
      "data.time=0.16 data.qpos[index]=-7.60 data.qvel[index]=-47.64\n",
      "data.time=0.16 data.qpos[index]=-7.70 data.qvel[index]=-47.64\n",
      "data.time=0.16 data.qpos[index]=-7.79 data.qvel[index]=-47.64\n",
      "data.time=0.16 data.qpos[index]=-7.89 data.qvel[index]=-47.63\n",
      "data.time=0.16 data.qpos[index]=-7.98 data.qvel[index]=-47.63\n",
      "data.time=0.17 data.qpos[index]=-8.08 data.qvel[index]=-47.63\n",
      "data.time=0.17 data.qpos[index]=-8.18 data.qvel[index]=-47.63\n",
      "data.time=0.17 data.qpos[index]=-8.27 data.qvel[index]=-47.63\n",
      "data.time=0.17 data.qpos[index]=-8.37 data.qvel[index]=-47.63\n",
      "data.time=0.17 data.qpos[index]=-8.46 data.qvel[index]=-47.63\n",
      "data.time=0.18 data.qpos[index]=-8.56 data.qvel[index]=-47.63\n",
      "data.time=0.18 data.qpos[index]=-8.65 data.qvel[index]=-47.63\n",
      "data.time=0.18 data.qpos[index]=-8.75 data.qvel[index]=-47.63\n",
      "data.time=0.18 data.qpos[index]=-8.84 data.qvel[index]=-47.63\n",
      "data.time=0.18 data.qpos[index]=-8.94 data.qvel[index]=-47.63\n",
      "data.time=0.19 data.qpos[index]=-9.03 data.qvel[index]=-47.63\n",
      "data.time=0.19 data.qpos[index]=-9.13 data.qvel[index]=-47.63\n",
      "data.time=0.19 data.qpos[index]=-9.22 data.qvel[index]=-47.63\n",
      "data.time=0.19 data.qpos[index]=-9.32 data.qvel[index]=-47.64\n",
      "data.time=0.19 data.qpos[index]=-9.41 data.qvel[index]=-47.64\n",
      "data.time=0.20 data.qpos[index]=-9.51 data.qvel[index]=-47.64\n",
      "data.time=0.20 data.qpos[index]=-9.60 data.qvel[index]=-47.64\n",
      "data.time=0.20 data.qpos[index]=-9.70 data.qvel[index]=-47.64\n",
      "data.time=0.20 data.qpos[index]=-9.79 data.qvel[index]=-47.64\n",
      "data.time=0.20 data.qpos[index]=-9.89 data.qvel[index]=-47.64\n",
      "data.time=0.21 data.qpos[index]=-9.99 data.qvel[index]=-47.64\n",
      "data.time=0.21 data.qpos[index]=-10.08 data.qvel[index]=-47.64\n"
     ]
    }
   ],
   "source": [
    "import time\n",
    "import math\n",
    "# Setup viewer\n",
    "viewer = mujoco_viewer.MujocoViewer(model, data)\n",
    "\n",
    "# Reset the simulation\n",
    "mujoco.mj_resetDataKeyframe(model, data, 0)\n",
    "\n",
    "# data.qvel 18 values. It is matched to the order of the \"joint\" elements in the XML file.\n",
    "# The order is as follows:\n",
    "# 0: trunk_tx, 1: trunk_ty, 2: trunk_tz\n",
    "# 3: trunk_list (roll), 4: trunk_tilt (pitch, +forward), 5: trunk_rotation (yaw, +left)\n",
    "\n",
    "\n",
    "# Linear Velocity/Torque: 0=forward, 1=left, 2=up\n",
    "# Anguar Velocity/Torque: 3=roll right, 4=pitch forward, 5=yaw left (from above)\n",
    "# 6=FR_hip, 7=FR_thigh, 8=FR_calf\n",
    "# 9=FL_hip, 10=FL_thigh, 11=FL_calf\n",
    "# 12=RR_hip, 13=RR_thigh, 14=RR_calf\n",
    "# 15=RL_hip, 16=RL_thigh, 17=RL_calf\n",
    "data.qpos[5] = math.pi\n",
    "\n",
    "for i in range(1000):\n",
    "    if viewer.is_alive:\n",
    "        mujoco.mj_step(model, data)\n",
    "        index = 0\n",
    "        if i == 0:\n",
    "            data.qvel[index] = -50.0 # Is relative to the world\n",
    "\n",
    "        viewer.render()\n",
    "        print(f\"{data.time=:.2f} {data.qpos[index]=:.2f} {data.qvel[index]=:.2f}\")\n",
    "        time.sleep(0.05)\n",
    "    else:\n",
    "        break\n",
    "\n",
    "viewer.close()"
   ]
  }
 ],
 "metadata": {
  "kernelspec": {
   "display_name": ".venv",
   "language": "python",
   "name": "python3"
  },
  "language_info": {
   "codemirror_mode": {
    "name": "ipython",
    "version": 3
   },
   "file_extension": ".py",
   "mimetype": "text/x-python",
   "name": "python",
   "nbconvert_exporter": "python",
   "pygments_lexer": "ipython3",
   "version": "3.8.10"
  }
 },
 "nbformat": 4,
 "nbformat_minor": 2
}
