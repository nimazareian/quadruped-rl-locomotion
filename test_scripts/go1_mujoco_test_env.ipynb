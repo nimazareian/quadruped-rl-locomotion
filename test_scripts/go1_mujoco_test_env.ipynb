{
 "cells": [
  {
   "cell_type": "markdown",
   "metadata": {},
   "source": [
    "A more complete notebook can be found [here](https://colab.research.google.com/github/google-deepmind/mujoco/blob/main/python/tutorial.ipynb)"
   ]
  },
  {
   "cell_type": "code",
   "execution_count": 1,
   "metadata": {},
   "outputs": [],
   "source": [
    "import mujoco\n",
    "import mujoco_viewer\n",
    "\n",
    "# scene.xml includes the robot model and a simple environment\n",
    "model = mujoco.MjModel.from_xml_path(\"./unitree_go1/scene.xml\")\n",
    "\n",
    "# Contains the state of the model (time: .time, pos: .qpos, vel: .qvel) \n",
    "data = mujoco.MjData(model)"
   ]
  },
  {
   "cell_type": "code",
   "execution_count": 2,
   "metadata": {},
   "outputs": [
    {
     "name": "stdout",
     "output_type": "stream",
     "text": [
      "\"Invalid name ''. Valid names: ['FL', 'FR', 'RL', 'RR', 'floor']\"\n"
     ]
    }
   ],
   "source": [
    "# Print out the name of the body accessors\n",
    "try:\n",
    "    model.geom()\n",
    "except KeyError as e:\n",
    "    print(e)"
   ]
  },
  {
   "cell_type": "code",
   "execution_count": 3,
   "metadata": {},
   "outputs": [
    {
     "data": {
      "text/plain": [
       "<_MjModelGeomViews\n",
       "  bodyid: array([7])\n",
       "  conaffinity: array([1])\n",
       "  condim: array([6])\n",
       "  contype: array([1])\n",
       "  dataid: array([-1])\n",
       "  friction: array([0.8 , 0.02, 0.01])\n",
       "  gap: array([0.])\n",
       "  group: array([3])\n",
       "  id: 31\n",
       "  margin: array([0.001])\n",
       "  matid: array([-1])\n",
       "  name: 'FL'\n",
       "  pos: array([ 0.   ,  0.   , -0.213])\n",
       "  priority: array([1])\n",
       "  quat: array([1., 0., 0., 0.])\n",
       "  rbound: array([0.023])\n",
       "  rgba: array([0.5, 0.5, 0.5, 1. ], dtype=float32)\n",
       "  sameframe: array([0], dtype=uint8)\n",
       "  size: array([0.023, 0.   , 0.   ])\n",
       "  solimp: array([0.015, 1.   , 0.031, 0.5  , 2.   ])\n",
       "  solmix: array([1.])\n",
       "  solref: array([0.02, 1.  ])\n",
       "  type: array([2])\n",
       "  user: array([], dtype=float64)\n",
       ">"
      ]
     },
     "execution_count": 3,
     "metadata": {},
     "output_type": "execute_result"
    }
   ],
   "source": [
    "model.geom(\"FL\")"
   ]
  },
  {
   "cell_type": "code",
   "execution_count": 4,
   "metadata": {},
   "outputs": [
    {
     "name": "stdout",
     "output_type": "stream",
     "text": [
      "Simulated time: 0.0 sec\n",
      "Default timestep: 0.002 sec\n",
      "Degrees of freedom: model.nv=18\n",
      "len(data.qpos)=19 data.qpos=array([0.   , 0.   , 0.445, 1.   , 0.   , 0.   , 0.   , 0.   , 0.   ,\n",
      "       0.   , 0.   , 0.   , 0.   , 0.   , 0.   , 0.   , 0.   , 0.   ,\n",
      "       0.   ])\n",
      "len(data.qvel)=18 data.qvel=array([0., 0., 0., 0., 0., 0., 0., 0., 0., 0., 0., 0., 0., 0., 0., 0., 0.,\n",
      "       0.])\n"
     ]
    }
   ],
   "source": [
    "print(f\"Simulated time: {data.time} sec\")\n",
    "print(f\"Default timestep: {model.opt.timestep} sec\")\n",
    "print(f\"Degrees of freedom: {model.nv=}\")\n",
    "\n",
    "# Position has 1 extra dimension since orientation is represented with\n",
    "# quaternions (4-values) while angular velocity has 3 values.\n",
    "print(f\"{len(data.qpos)=} {data.qpos=}\")\n",
    "print(f\"{len(data.qvel)=} {data.qvel=}\")"
   ]
  },
  {
   "cell_type": "code",
   "execution_count": 5,
   "metadata": {},
   "outputs": [],
   "source": [
    "# Setup viewer\n",
    "viewer = mujoco_viewer.MujocoViewer(model, data)\n",
    "\n",
    "# Reset the simulation\n",
    "mujoco.mj_resetDataKeyframe(model, data, 0)\n",
    "\n",
    "for _ in range(1000):\n",
    "    if viewer.is_alive:\n",
    "        mujoco.mj_step(model, data)\n",
    "        viewer.render()\n",
    "    else:\n",
    "        break\n",
    "\n",
    "viewer.close()"
   ]
  }
 ],
 "metadata": {
  "kernelspec": {
   "display_name": ".venv",
   "language": "python",
   "name": "python3"
  },
  "language_info": {
   "codemirror_mode": {
    "name": "ipython",
    "version": 3
   },
   "file_extension": ".py",
   "mimetype": "text/x-python",
   "name": "python",
   "nbconvert_exporter": "python",
   "pygments_lexer": "ipython3",
   "version": "3.8.10"
  }
 },
 "nbformat": 4,
 "nbformat_minor": 2
}
